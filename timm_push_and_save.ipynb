{
  "nbformat": 4,
  "nbformat_minor": 0,
  "metadata": {
    "colab": {
      "name": "timm-push-and-save-example.ipynb",
      "provenance": [],
      "collapsed_sections": [],
      "authorship_tag": "ABX9TyMS7wd9CjST/XPvEbSPs8jk",
      "include_colab_link": true
    },
    "kernelspec": {
      "name": "python3",
      "display_name": "Python 3"
    },
    "language_info": {
      "name": "python"
    }
  },
  "cells": [
    {
      "cell_type": "markdown",
      "metadata": {
        "id": "view-in-github",
        "colab_type": "text"
      },
      "source": [
        "<a href=\"https://colab.research.google.com/github/nateraw/huggingface-hub-examples/blob/main/timm_push_and_save.ipynb\" target=\"_parent\"><img src=\"https://colab.research.google.com/assets/colab-badge.svg\" alt=\"Open In Colab\"/></a>"
      ]
    },
    {
      "cell_type": "code",
      "metadata": {
        "id": "lLQ9QcPQoWDN"
      },
      "source": [
        "%%capture\n",
        "\n",
        "# Install timm save and push branch + huggingface_hub package\n",
        "! pip install git+https://github.com/nateraw/pytorch-image-models.git@hf-save-and-push\n",
        "! pip install huggingface-hub\n",
        "\n",
        "# Install Git LFS, which is required for huggingface_hub\n",
        "! apt install git-lfs\n",
        "\n",
        "# Add credential helper - used by huggingface_hub package\n",
        "! git config --global credential.helper store"
      ],
      "execution_count": null,
      "outputs": []
    },
    {
      "cell_type": "code",
      "metadata": {
        "id": "piOyQPRqohrm"
      },
      "source": [
        "# Log into Hugging Face Hub from CLI\n",
        "! huggingface-cli login"
      ],
      "execution_count": null,
      "outputs": []
    },
    {
      "cell_type": "code",
      "metadata": {
        "id": "cN0GSfBioVO0"
      },
      "source": [
        "import timm\n",
        "\n",
        "# Build a model 🔧\n",
        "model = timm.create_model('resnet18', pretrained=True, num_classes=4)\n",
        "\n",
        "# Push it to the 🤗 hub \n",
        "timm.models.hub.push_to_hf_hub(model, 'resnet18-random-classifier', labels=['a', 'b', 'c', 'd'])\n",
        "\n",
        "# Load from hub 🔥\n",
        "model_reloaded = timm.create_model(\n",
        "    'hf_hub:dog/resnet18-random-classifier',\n",
        "    pretrained=True\n",
        ")"
      ],
      "execution_count": null,
      "outputs": []
    }
  ]
}