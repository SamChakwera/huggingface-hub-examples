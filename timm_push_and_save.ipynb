{
  "nbformat": 4,
  "nbformat_minor": 0,
  "metadata": {
    "colab": {
      "name": "timm-push-and-save-example.ipynb",
      "provenance": [],
      "collapsed_sections": [],
      "authorship_tag": "ABX9TyNvLZ9UmK+XLsscv09uN7Uj",
      "include_colab_link": true
    },
    "kernelspec": {
      "name": "python3",
      "display_name": "Python 3"
    },
    "language_info": {
      "name": "python"
    }
  },
  "cells": [
    {
      "cell_type": "markdown",
      "metadata": {
        "id": "view-in-github",
        "colab_type": "text"
      },
      "source": [
        "<a href=\"https://colab.research.google.com/github/nateraw/huggingface-hub-examples/blob/main/timm_push_and_save.ipynb\" target=\"_parent\"><img src=\"https://colab.research.google.com/assets/colab-badge.svg\" alt=\"Open In Colab\"/></a>"
      ]
    },
    {
      "cell_type": "code",
      "metadata": {
        "id": "lLQ9QcPQoWDN"
      },
      "source": [
        "%%capture\n",
        "! pip install timm\n",
        "! pip install huggingface-hub\n",
        "! git config --global credential.helper store"
      ],
      "execution_count": 1,
      "outputs": []
    },
    {
      "cell_type": "code",
      "metadata": {
        "id": "piOyQPRqohrm",
        "outputId": "69e817d1-f197-4993-b63b-a5580f79eaf5",
        "colab": {
          "base_uri": "https://localhost:8080/"
        }
      },
      "source": [
        "# Log into Hugging Face Hub from CLI\n",
        "! huggingface-cli login"
      ],
      "execution_count": 2,
      "outputs": [
        {
          "output_type": "stream",
          "name": "stdout",
          "text": [
            "\n",
            "        _|    _|  _|    _|    _|_|_|    _|_|_|  _|_|_|  _|      _|    _|_|_|      _|_|_|_|    _|_|      _|_|_|  _|_|_|_|\n",
            "        _|    _|  _|    _|  _|        _|          _|    _|_|    _|  _|            _|        _|    _|  _|        _|\n",
            "        _|_|_|_|  _|    _|  _|  _|_|  _|  _|_|    _|    _|  _|  _|  _|  _|_|      _|_|_|    _|_|_|_|  _|        _|_|_|\n",
            "        _|    _|  _|    _|  _|    _|  _|    _|    _|    _|    _|_|  _|    _|      _|        _|    _|  _|        _|\n",
            "        _|    _|    _|_|      _|_|_|    _|_|_|  _|_|_|  _|      _|    _|_|_|      _|        _|    _|    _|_|_|  _|_|_|_|\n",
            "\n",
            "        To login, `huggingface_hub` now requires a token generated from https://huggingface.co/settings/tokens .\n",
            "        \n",
            "Token: \n",
            "Login successful\n",
            "Your token has been saved to /root/.huggingface/token\n"
          ]
        }
      ]
    },
    {
      "cell_type": "code",
      "metadata": {
        "id": "cN0GSfBioVO0",
        "outputId": "0e26d065-404a-4cc3-9e56-797aa77fa779",
        "colab": {
          "base_uri": "https://localhost:8080/"
        }
      },
      "source": [
        "from huggingface_hub import whoami\n",
        "import timm\n",
        "\n",
        "# Build a model 🔧\n",
        "model = timm.create_model('resnet18', pretrained=True, num_classes=4)\n",
        "\n",
        "# Push it to the 🤗 hub \n",
        "timm.models.hub.push_to_hf_hub(\n",
        "    model,\n",
        "    'resnet18-random-classifier',\n",
        "    model_config=dict(labels=['a', 'b', 'c', 'd']) \n",
        ")\n",
        "\n",
        "# Load from hub 🔥\n",
        "model_reloaded = timm.create_model(\n",
        "    'hf_hub:nateraw/resnet18-random-classifier',\n",
        "    pretrained=True\n",
        ")"
      ],
      "execution_count": 6,
      "outputs": [
        {
          "output_type": "stream",
          "name": "stderr",
          "text": [
            "/usr/local/lib/python3.7/dist-packages/huggingface_hub/file_download.py:563: FutureWarning: `cached_download` is the legacy way to download files from the HF hub, please consider upgrading to `hf_hub_download`\n",
            "  FutureWarning,\n"
          ]
        }
      ]
    },
    {
      "cell_type": "code",
      "source": [
        ""
      ],
      "metadata": {
        "id": "skHAu7T78E4r"
      },
      "execution_count": null,
      "outputs": []
    }
  ]
}