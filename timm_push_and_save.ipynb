{
  "nbformat": 4,
  "nbformat_minor": 0,
  "metadata": {
    "colab": {
      "name": "timm-push-and-save-example.ipynb",
      "provenance": [],
      "collapsed_sections": [],
      "authorship_tag": "ABX9TyNGlrYzOnJiE4vXxqrA6qi6",
      "include_colab_link": true
    },
    "kernelspec": {
      "name": "python3",
      "display_name": "Python 3"
    },
    "language_info": {
      "name": "python"
    }
  },
  "cells": [
    {
      "cell_type": "markdown",
      "metadata": {
        "id": "view-in-github",
        "colab_type": "text"
      },
      "source": [
        "<a href=\"https://colab.research.google.com/github/nateraw/huggingface-hub-examples/blob/main/timm_push_and_save.ipynb\" target=\"_parent\"><img src=\"https://colab.research.google.com/assets/colab-badge.svg\" alt=\"Open In Colab\"/></a>"
      ]
    },
    {
      "cell_type": "code",
      "metadata": {
        "id": "lLQ9QcPQoWDN"
      },
      "source": [
        "%%capture\n",
        "! pip install timm\n",
        "! pip install huggingface-hub\n",
        "! git config --global credential.helper store"
      ],
      "execution_count": 1,
      "outputs": []
    },
    {
      "cell_type": "code",
      "metadata": {
        "id": "piOyQPRqohrm"
      },
      "source": [
        "from huggingface_hub import notebook_login\n",
        "\n",
        "notebook_login()"
      ],
      "execution_count": null,
      "outputs": []
    },
    {
      "cell_type": "code",
      "metadata": {
        "id": "cN0GSfBioVO0"
      },
      "source": [
        "import timm\n",
        "\n",
        "# Build a model 🔧\n",
        "model = timm.create_model('resnet18', pretrained=True, num_classes=4)\n",
        "\n",
        "# Here you would fine tune, but I'm not 😅\n",
        "\n",
        "# Push it to the 🤗 hub \n",
        "timm.models.hub.push_to_hf_hub(\n",
        "    model,\n",
        "    'resnet18-random',\n",
        "    model_config=dict(labels=['a', 'b', 'c', 'd']) \n",
        ")\n",
        "\n",
        "# Load from hub 🔥\n",
        "model_reloaded = timm.create_model(\n",
        "    'hf_hub:nateraw/resnet18-random',\n",
        "    pretrained=True\n",
        ")"
      ],
      "execution_count": null,
      "outputs": []
    },
    {
      "cell_type": "markdown",
      "source": [
        "You can check out the model I shared [here](https://huggingface.co/nateraw/resnet18-random) 🤗"
      ],
      "metadata": {
        "id": "hz8ZBgj59tT-"
      }
    }
  ]
}