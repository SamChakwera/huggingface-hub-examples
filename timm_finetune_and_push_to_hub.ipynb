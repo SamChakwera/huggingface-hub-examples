{
  "nbformat": 4,
  "nbformat_minor": 0,
  "metadata": {
    "colab": {
      "provenance": [],
      "collapsed_sections": [],
      "authorship_tag": "ABX9TyMgdDSBBPX1VXsAl+W0mNQ/",
      "include_colab_link": true
    },
    "kernelspec": {
      "name": "python3",
      "display_name": "Python 3"
    },
    "language_info": {
      "name": "python"
    },
    "accelerator": "GPU",
    "gpuClass": "standard"
  },
  "cells": [
    {
      "cell_type": "markdown",
      "metadata": {
        "id": "view-in-github",
        "colab_type": "text"
      },
      "source": [
        "<a href=\"https://colab.research.google.com/github/nateraw/huggingface-hub-examples/blob/main/timm_finetune_and_push_to_hub.ipynb\" target=\"_parent\"><img src=\"https://colab.research.google.com/assets/colab-badge.svg\" alt=\"Open In Colab\"/></a>"
      ]
    },
    {
      "cell_type": "code",
      "source": [
        "%%capture\n",
        "! pip install git+https://github.com/rwightman/pytorch-image-models\n",
        "! pip install huggingface_hub\n",
        "! git config --global credential.helper store"
      ],
      "metadata": {
        "id": "Itjy9NOsRT8d"
      },
      "execution_count": null,
      "outputs": []
    },
    {
      "cell_type": "markdown",
      "source": [
        "## Download the training script\n",
        "\n",
        "Here we download the [official training script](https://github.com/rwightman/pytorch-image-models/blob/master/train.py) from the timm repo."
      ],
      "metadata": {
        "id": "E6ArKfWUSY23"
      }
    },
    {
      "cell_type": "code",
      "source": [
        "! wget -nc https://raw.githubusercontent.com/rwightman/pytorch-image-models/master/train.py"
      ],
      "metadata": {
        "id": "I33hLtF1RF6Z"
      },
      "execution_count": null,
      "outputs": []
    },
    {
      "cell_type": "markdown",
      "source": [
        "## Train! 🚀"
      ],
      "metadata": {
        "id": "F00YyEpoSatO"
      }
    },
    {
      "cell_type": "code",
      "execution_count": null,
      "metadata": {
        "id": "SNFp_TA5RC6L"
      },
      "outputs": [],
      "source": [
        "! python train.py ./data/tfds \\\n",
        "    --dataset tfds/oxford_iiit_pet \\\n",
        "    --val-split test \\\n",
        "    --model resnet50 \\\n",
        "    --epochs 5 \\\n",
        "    -b 256 \\\n",
        "    --amp \\\n",
        "    --num-classes 37 \\\n",
        "    --opt adamw \\\n",
        "    --lr 3e-4 \\\n",
        "    --weight-decay .001 \\\n",
        "    --pretrained \\\n",
        "    -j 2 \\\n",
        "    --dataset-download"
      ]
    },
    {
      "cell_type": "markdown",
      "source": [
        "## Load the Trained Model"
      ],
      "metadata": {
        "id": "u4351tVJZq1D"
      }
    },
    {
      "cell_type": "code",
      "source": [
        "import os\n",
        "from pathlib import Path\n",
        "\n",
        "import timm\n",
        "import yaml\n",
        "\n",
        "\n",
        "output_dir = Path(\"output/train\")\n",
        "run_dir = output_dir / sorted(os.listdir(output_dir), reverse=True)[0]\n",
        "\n",
        "args = yaml.safe_load((run_dir / 'args.yaml').read_text())\n",
        "\n",
        "model = timm.create_model(\n",
        "    args.get('model'),\n",
        "    num_classes=args.get('num_classes'),\n",
        "    in_chans=3,\n",
        "    checkpoint_path=run_dir / 'model_best.pth.tar'\n",
        ")"
      ],
      "metadata": {
        "id": "YKT7M7g3W6Xo"
      },
      "execution_count": 10,
      "outputs": []
    },
    {
      "cell_type": "markdown",
      "source": [
        "Define the labels so they can be used in Hugging Face inference API. We'll include them in the `model_config` a couple cells down from here"
      ],
      "metadata": {
        "id": "O1IcsbHtbKoa"
      }
    },
    {
      "cell_type": "code",
      "source": [
        "labels = [\n",
        "    \"Abyssinian\", \"american_bulldog\", \"american_pit_bull_terrier\",\n",
        "    \"basset_hound\", \"beagle\", \"Bengal\", \"Birman\", \"Bombay\", \"boxer\",\n",
        "    \"British_Shorthair\", \"chihuahua\", \"Egyptian_Mau\", \"english_cocker_spaniel\",\n",
        "    \"english_setter\", \"german_shorthaired\", \"great_pyrenees\", \"havanese\",\n",
        "    \"japanese_chin\", \"keeshond\", \"leonberger\", \"Maine_Coon\",\n",
        "    \"miniature_pinscher\", \"newfoundland\", \"Persian\", \"pomeranian\", \"pug\",\n",
        "    \"Ragdoll\", \"Russian_Blue\", \"saint_bernard\", \"samoyed\", \"scottish_terrier\",\n",
        "    \"shiba_inu\", \"Siamese\", \"Sphynx\", \"staffordshire_bull_terrier\",\n",
        "    \"wheaten_terrier\", \"yorkshire_terrier\"\n",
        "]"
      ],
      "metadata": {
        "id": "oimvA7v5aKFL"
      },
      "execution_count": 11,
      "outputs": []
    },
    {
      "cell_type": "markdown",
      "source": [
        "## Push to Hub! 🤗\n",
        "\n",
        "Before we push, though, we have to authenticate with the Hub."
      ],
      "metadata": {
        "id": "v_iGYJVQcvxh"
      }
    },
    {
      "cell_type": "code",
      "source": [
        "from huggingface_hub import notebook_login\n",
        "\n",
        "notebook_login()"
      ],
      "metadata": {
        "id": "lHCfD0SPbSi2"
      },
      "execution_count": null,
      "outputs": []
    },
    {
      "cell_type": "markdown",
      "source": [
        "Finally, we push to the Hub! The repo pushed in the cell below can be seen [here](https://huggingface.co/nateraw/resnet50-oxford-iiit-pet-v2)."
      ],
      "metadata": {
        "id": "ifDQ_IXbdZb8"
      }
    },
    {
      "cell_type": "code",
      "source": [
        "from timm.models.hub import push_to_hf_hub\n",
        "\n",
        "url = push_to_hf_hub(\n",
        "    model,\n",
        "    'resnet50-oxford-iiit-pet-v2',\n",
        "    model_config={'labels': labels}\n",
        ")\n",
        "print(f\"Check out the repo we made here: {url}\")"
      ],
      "metadata": {
        "id": "s5b_53JBbVFD"
      },
      "execution_count": null,
      "outputs": []
    }
  ]
}