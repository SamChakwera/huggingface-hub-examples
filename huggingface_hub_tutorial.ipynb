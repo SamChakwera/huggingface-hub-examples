{
  "nbformat": 4,
  "nbformat_minor": 0,
  "metadata": {
    "colab": {
      "name": "huggingface-hub-tutorial.ipynb",
      "provenance": [],
      "collapsed_sections": [],
      "authorship_tag": "ABX9TyOvLoKZdGUgTA/KbJeLr1wz",
      "include_colab_link": true
    },
    "kernelspec": {
      "name": "python3",
      "display_name": "Python 3"
    },
    "language_info": {
      "name": "python"
    },
    "widgets": {
      "application/vnd.jupyter.widget-state+json": {
        "adbc481b9bda47bca07e64e00ebc4ed1": {
          "model_module": "@jupyter-widgets/controls",
          "model_name": "VBoxModel",
          "model_module_version": "1.5.0",
          "state": {
            "_dom_classes": [],
            "_model_module": "@jupyter-widgets/controls",
            "_model_module_version": "1.5.0",
            "_model_name": "VBoxModel",
            "_view_count": null,
            "_view_module": "@jupyter-widgets/controls",
            "_view_module_version": "1.5.0",
            "_view_name": "VBoxView",
            "box_style": "",
            "children": [
              "IPY_MODEL_ba8333a7825f4619ac99efa75d7932fd",
              "IPY_MODEL_ea6af37172404ab0b7f5fb2b51ee5c8b",
              "IPY_MODEL_6404194472da45e1bae0e2479af54373",
              "IPY_MODEL_d29fed134d334a9eb11addb4b4b17dd0",
              "IPY_MODEL_68342b12456c46afa3468e0bbe5a7681"
            ],
            "layout": "IPY_MODEL_83a553698dbd4568b6ad0a1800f2c208"
          }
        },
        "ba8333a7825f4619ac99efa75d7932fd": {
          "model_module": "@jupyter-widgets/controls",
          "model_name": "HTMLModel",
          "model_module_version": "1.5.0",
          "state": {
            "_dom_classes": [],
            "_model_module": "@jupyter-widgets/controls",
            "_model_module_version": "1.5.0",
            "_model_name": "HTMLModel",
            "_view_count": null,
            "_view_module": "@jupyter-widgets/controls",
            "_view_module_version": "1.5.0",
            "_view_name": "HTMLView",
            "description": "",
            "description_tooltip": null,
            "layout": "IPY_MODEL_30d3921c812f4e5a9cc135d96fb3faea",
            "placeholder": "​",
            "style": "IPY_MODEL_a757b9b8eb1f42ffafbe01834c76c6ef",
            "value": "<center> <img\nsrc=https://huggingface.co/front/assets/huggingface_logo-noborder.svg\nalt='Hugging Face'> <br> Copy a token from <a\nhref=\"https://huggingface.co/settings/tokens\" target=\"_blank\">your Hugging Face\ntokens page</a> and paste it below. <br> Immediately click login after copying\nyour token or it might be stored in plain text in this notebook file. </center>"
          }
        },
        "ea6af37172404ab0b7f5fb2b51ee5c8b": {
          "model_module": "@jupyter-widgets/controls",
          "model_name": "PasswordModel",
          "model_module_version": "1.5.0",
          "state": {
            "_dom_classes": [],
            "_model_module": "@jupyter-widgets/controls",
            "_model_module_version": "1.5.0",
            "_model_name": "PasswordModel",
            "_view_count": null,
            "_view_module": "@jupyter-widgets/controls",
            "_view_module_version": "1.5.0",
            "_view_name": "PasswordView",
            "continuous_update": true,
            "description": "Token:",
            "description_tooltip": null,
            "disabled": false,
            "layout": "IPY_MODEL_ddc1692a208946dc961ca30c9e2a2f3b",
            "placeholder": "​",
            "style": "IPY_MODEL_92b4b4c2723c43a9908f1beb79ddc312",
            "value": ""
          }
        },
        "6404194472da45e1bae0e2479af54373": {
          "model_module": "@jupyter-widgets/controls",
          "model_name": "ButtonModel",
          "model_module_version": "1.5.0",
          "state": {
            "_dom_classes": [],
            "_model_module": "@jupyter-widgets/controls",
            "_model_module_version": "1.5.0",
            "_model_name": "ButtonModel",
            "_view_count": null,
            "_view_module": "@jupyter-widgets/controls",
            "_view_module_version": "1.5.0",
            "_view_name": "ButtonView",
            "button_style": "",
            "description": "Login",
            "disabled": false,
            "icon": "",
            "layout": "IPY_MODEL_2bf49a555f6f4fa19459ad5fcc1f28b9",
            "style": "IPY_MODEL_9666336ec3b74e2095712162a681bb09",
            "tooltip": ""
          }
        },
        "d29fed134d334a9eb11addb4b4b17dd0": {
          "model_module": "@jupyter-widgets/controls",
          "model_name": "HTMLModel",
          "model_module_version": "1.5.0",
          "state": {
            "_dom_classes": [],
            "_model_module": "@jupyter-widgets/controls",
            "_model_module_version": "1.5.0",
            "_model_name": "HTMLModel",
            "_view_count": null,
            "_view_module": "@jupyter-widgets/controls",
            "_view_module_version": "1.5.0",
            "_view_name": "HTMLView",
            "description": "",
            "description_tooltip": null,
            "layout": "IPY_MODEL_0a55e70f385c4db8a14f3fc3834b3cbe",
            "placeholder": "​",
            "style": "IPY_MODEL_bea2821e93f54289b53d71f276a5fb6e",
            "value": "\n<b>Pro Tip:</b> If you don't already have one, you can create a dedicated\n'notebooks' token with 'write' access, that you can then easily reuse for all\nnotebooks. <br> <i>Logging in with your username and password is deprecated and\nwon't be possible anymore in the near future. You can still use them for now by\nclicking below.</i> </center>"
          }
        },
        "68342b12456c46afa3468e0bbe5a7681": {
          "model_module": "@jupyter-widgets/controls",
          "model_name": "ButtonModel",
          "model_module_version": "1.5.0",
          "state": {
            "_dom_classes": [],
            "_model_module": "@jupyter-widgets/controls",
            "_model_module_version": "1.5.0",
            "_model_name": "ButtonModel",
            "_view_count": null,
            "_view_module": "@jupyter-widgets/controls",
            "_view_module_version": "1.5.0",
            "_view_name": "ButtonView",
            "button_style": "",
            "description": "Use password",
            "disabled": false,
            "icon": "",
            "layout": "IPY_MODEL_4b0933499b504fc38ec9b7c5604f4f37",
            "style": "IPY_MODEL_31b79c8b0541448f9b6f47524968ce79",
            "tooltip": ""
          }
        },
        "83a553698dbd4568b6ad0a1800f2c208": {
          "model_module": "@jupyter-widgets/base",
          "model_name": "LayoutModel",
          "model_module_version": "1.2.0",
          "state": {
            "_model_module": "@jupyter-widgets/base",
            "_model_module_version": "1.2.0",
            "_model_name": "LayoutModel",
            "_view_count": null,
            "_view_module": "@jupyter-widgets/base",
            "_view_module_version": "1.2.0",
            "_view_name": "LayoutView",
            "align_content": null,
            "align_items": "center",
            "align_self": null,
            "border": null,
            "bottom": null,
            "display": "flex",
            "flex": null,
            "flex_flow": "column",
            "grid_area": null,
            "grid_auto_columns": null,
            "grid_auto_flow": null,
            "grid_auto_rows": null,
            "grid_column": null,
            "grid_gap": null,
            "grid_row": null,
            "grid_template_areas": null,
            "grid_template_columns": null,
            "grid_template_rows": null,
            "height": null,
            "justify_content": null,
            "justify_items": null,
            "left": null,
            "margin": null,
            "max_height": null,
            "max_width": null,
            "min_height": null,
            "min_width": null,
            "object_fit": null,
            "object_position": null,
            "order": null,
            "overflow": null,
            "overflow_x": null,
            "overflow_y": null,
            "padding": null,
            "right": null,
            "top": null,
            "visibility": null,
            "width": "50%"
          }
        },
        "30d3921c812f4e5a9cc135d96fb3faea": {
          "model_module": "@jupyter-widgets/base",
          "model_name": "LayoutModel",
          "model_module_version": "1.2.0",
          "state": {
            "_model_module": "@jupyter-widgets/base",
            "_model_module_version": "1.2.0",
            "_model_name": "LayoutModel",
            "_view_count": null,
            "_view_module": "@jupyter-widgets/base",
            "_view_module_version": "1.2.0",
            "_view_name": "LayoutView",
            "align_content": null,
            "align_items": null,
            "align_self": null,
            "border": null,
            "bottom": null,
            "display": null,
            "flex": null,
            "flex_flow": null,
            "grid_area": null,
            "grid_auto_columns": null,
            "grid_auto_flow": null,
            "grid_auto_rows": null,
            "grid_column": null,
            "grid_gap": null,
            "grid_row": null,
            "grid_template_areas": null,
            "grid_template_columns": null,
            "grid_template_rows": null,
            "height": null,
            "justify_content": null,
            "justify_items": null,
            "left": null,
            "margin": null,
            "max_height": null,
            "max_width": null,
            "min_height": null,
            "min_width": null,
            "object_fit": null,
            "object_position": null,
            "order": null,
            "overflow": null,
            "overflow_x": null,
            "overflow_y": null,
            "padding": null,
            "right": null,
            "top": null,
            "visibility": null,
            "width": null
          }
        },
        "a757b9b8eb1f42ffafbe01834c76c6ef": {
          "model_module": "@jupyter-widgets/controls",
          "model_name": "DescriptionStyleModel",
          "model_module_version": "1.5.0",
          "state": {
            "_model_module": "@jupyter-widgets/controls",
            "_model_module_version": "1.5.0",
            "_model_name": "DescriptionStyleModel",
            "_view_count": null,
            "_view_module": "@jupyter-widgets/base",
            "_view_module_version": "1.2.0",
            "_view_name": "StyleView",
            "description_width": ""
          }
        },
        "ddc1692a208946dc961ca30c9e2a2f3b": {
          "model_module": "@jupyter-widgets/base",
          "model_name": "LayoutModel",
          "model_module_version": "1.2.0",
          "state": {
            "_model_module": "@jupyter-widgets/base",
            "_model_module_version": "1.2.0",
            "_model_name": "LayoutModel",
            "_view_count": null,
            "_view_module": "@jupyter-widgets/base",
            "_view_module_version": "1.2.0",
            "_view_name": "LayoutView",
            "align_content": null,
            "align_items": null,
            "align_self": null,
            "border": null,
            "bottom": null,
            "display": null,
            "flex": null,
            "flex_flow": null,
            "grid_area": null,
            "grid_auto_columns": null,
            "grid_auto_flow": null,
            "grid_auto_rows": null,
            "grid_column": null,
            "grid_gap": null,
            "grid_row": null,
            "grid_template_areas": null,
            "grid_template_columns": null,
            "grid_template_rows": null,
            "height": null,
            "justify_content": null,
            "justify_items": null,
            "left": null,
            "margin": null,
            "max_height": null,
            "max_width": null,
            "min_height": null,
            "min_width": null,
            "object_fit": null,
            "object_position": null,
            "order": null,
            "overflow": null,
            "overflow_x": null,
            "overflow_y": null,
            "padding": null,
            "right": null,
            "top": null,
            "visibility": null,
            "width": null
          }
        },
        "92b4b4c2723c43a9908f1beb79ddc312": {
          "model_module": "@jupyter-widgets/controls",
          "model_name": "DescriptionStyleModel",
          "model_module_version": "1.5.0",
          "state": {
            "_model_module": "@jupyter-widgets/controls",
            "_model_module_version": "1.5.0",
            "_model_name": "DescriptionStyleModel",
            "_view_count": null,
            "_view_module": "@jupyter-widgets/base",
            "_view_module_version": "1.2.0",
            "_view_name": "StyleView",
            "description_width": ""
          }
        },
        "2bf49a555f6f4fa19459ad5fcc1f28b9": {
          "model_module": "@jupyter-widgets/base",
          "model_name": "LayoutModel",
          "model_module_version": "1.2.0",
          "state": {
            "_model_module": "@jupyter-widgets/base",
            "_model_module_version": "1.2.0",
            "_model_name": "LayoutModel",
            "_view_count": null,
            "_view_module": "@jupyter-widgets/base",
            "_view_module_version": "1.2.0",
            "_view_name": "LayoutView",
            "align_content": null,
            "align_items": null,
            "align_self": null,
            "border": null,
            "bottom": null,
            "display": null,
            "flex": null,
            "flex_flow": null,
            "grid_area": null,
            "grid_auto_columns": null,
            "grid_auto_flow": null,
            "grid_auto_rows": null,
            "grid_column": null,
            "grid_gap": null,
            "grid_row": null,
            "grid_template_areas": null,
            "grid_template_columns": null,
            "grid_template_rows": null,
            "height": null,
            "justify_content": null,
            "justify_items": null,
            "left": null,
            "margin": null,
            "max_height": null,
            "max_width": null,
            "min_height": null,
            "min_width": null,
            "object_fit": null,
            "object_position": null,
            "order": null,
            "overflow": null,
            "overflow_x": null,
            "overflow_y": null,
            "padding": null,
            "right": null,
            "top": null,
            "visibility": null,
            "width": null
          }
        },
        "9666336ec3b74e2095712162a681bb09": {
          "model_module": "@jupyter-widgets/controls",
          "model_name": "ButtonStyleModel",
          "model_module_version": "1.5.0",
          "state": {
            "_model_module": "@jupyter-widgets/controls",
            "_model_module_version": "1.5.0",
            "_model_name": "ButtonStyleModel",
            "_view_count": null,
            "_view_module": "@jupyter-widgets/base",
            "_view_module_version": "1.2.0",
            "_view_name": "StyleView",
            "button_color": null,
            "font_weight": ""
          }
        },
        "0a55e70f385c4db8a14f3fc3834b3cbe": {
          "model_module": "@jupyter-widgets/base",
          "model_name": "LayoutModel",
          "model_module_version": "1.2.0",
          "state": {
            "_model_module": "@jupyter-widgets/base",
            "_model_module_version": "1.2.0",
            "_model_name": "LayoutModel",
            "_view_count": null,
            "_view_module": "@jupyter-widgets/base",
            "_view_module_version": "1.2.0",
            "_view_name": "LayoutView",
            "align_content": null,
            "align_items": null,
            "align_self": null,
            "border": null,
            "bottom": null,
            "display": null,
            "flex": null,
            "flex_flow": null,
            "grid_area": null,
            "grid_auto_columns": null,
            "grid_auto_flow": null,
            "grid_auto_rows": null,
            "grid_column": null,
            "grid_gap": null,
            "grid_row": null,
            "grid_template_areas": null,
            "grid_template_columns": null,
            "grid_template_rows": null,
            "height": null,
            "justify_content": null,
            "justify_items": null,
            "left": null,
            "margin": null,
            "max_height": null,
            "max_width": null,
            "min_height": null,
            "min_width": null,
            "object_fit": null,
            "object_position": null,
            "order": null,
            "overflow": null,
            "overflow_x": null,
            "overflow_y": null,
            "padding": null,
            "right": null,
            "top": null,
            "visibility": null,
            "width": null
          }
        },
        "bea2821e93f54289b53d71f276a5fb6e": {
          "model_module": "@jupyter-widgets/controls",
          "model_name": "DescriptionStyleModel",
          "model_module_version": "1.5.0",
          "state": {
            "_model_module": "@jupyter-widgets/controls",
            "_model_module_version": "1.5.0",
            "_model_name": "DescriptionStyleModel",
            "_view_count": null,
            "_view_module": "@jupyter-widgets/base",
            "_view_module_version": "1.2.0",
            "_view_name": "StyleView",
            "description_width": ""
          }
        },
        "4b0933499b504fc38ec9b7c5604f4f37": {
          "model_module": "@jupyter-widgets/base",
          "model_name": "LayoutModel",
          "model_module_version": "1.2.0",
          "state": {
            "_model_module": "@jupyter-widgets/base",
            "_model_module_version": "1.2.0",
            "_model_name": "LayoutModel",
            "_view_count": null,
            "_view_module": "@jupyter-widgets/base",
            "_view_module_version": "1.2.0",
            "_view_name": "LayoutView",
            "align_content": null,
            "align_items": null,
            "align_self": null,
            "border": null,
            "bottom": null,
            "display": null,
            "flex": null,
            "flex_flow": null,
            "grid_area": null,
            "grid_auto_columns": null,
            "grid_auto_flow": null,
            "grid_auto_rows": null,
            "grid_column": null,
            "grid_gap": null,
            "grid_row": null,
            "grid_template_areas": null,
            "grid_template_columns": null,
            "grid_template_rows": null,
            "height": null,
            "justify_content": null,
            "justify_items": null,
            "left": null,
            "margin": null,
            "max_height": null,
            "max_width": null,
            "min_height": null,
            "min_width": null,
            "object_fit": null,
            "object_position": null,
            "order": null,
            "overflow": null,
            "overflow_x": null,
            "overflow_y": null,
            "padding": null,
            "right": null,
            "top": null,
            "visibility": null,
            "width": null
          }
        },
        "31b79c8b0541448f9b6f47524968ce79": {
          "model_module": "@jupyter-widgets/controls",
          "model_name": "ButtonStyleModel",
          "model_module_version": "1.5.0",
          "state": {
            "_model_module": "@jupyter-widgets/controls",
            "_model_module_version": "1.5.0",
            "_model_name": "ButtonStyleModel",
            "_view_count": null,
            "_view_module": "@jupyter-widgets/base",
            "_view_module_version": "1.2.0",
            "_view_name": "StyleView",
            "button_color": null,
            "font_weight": ""
          }
        },
        "25e0c8f8d0134e72ab6f571d8346a974": {
          "model_module": "@jupyter-widgets/controls",
          "model_name": "HBoxModel",
          "model_module_version": "1.5.0",
          "state": {
            "_dom_classes": [],
            "_model_module": "@jupyter-widgets/controls",
            "_model_module_version": "1.5.0",
            "_model_name": "HBoxModel",
            "_view_count": null,
            "_view_module": "@jupyter-widgets/controls",
            "_view_module_version": "1.5.0",
            "_view_name": "HBoxView",
            "box_style": "",
            "children": [
              "IPY_MODEL_c8abf953665d48fbbde10a5eeb397f5c",
              "IPY_MODEL_040d9603a27e47e5ae8566b380b6391c",
              "IPY_MODEL_92595cd8927541e283dde732a5411410"
            ],
            "layout": "IPY_MODEL_6f8e8efdfc004d178b094aee7a19032c"
          }
        },
        "c8abf953665d48fbbde10a5eeb397f5c": {
          "model_module": "@jupyter-widgets/controls",
          "model_name": "HTMLModel",
          "model_module_version": "1.5.0",
          "state": {
            "_dom_classes": [],
            "_model_module": "@jupyter-widgets/controls",
            "_model_module_version": "1.5.0",
            "_model_name": "HTMLModel",
            "_view_count": null,
            "_view_module": "@jupyter-widgets/controls",
            "_view_module_version": "1.5.0",
            "_view_name": "HTMLView",
            "description": "",
            "description_tooltip": null,
            "layout": "IPY_MODEL_92e9bf10651c41d4a65515f799149a89",
            "placeholder": "​",
            "style": "IPY_MODEL_19f7112ba2504ae7861db2b745446aa5",
            "value": "Downloading: 100%"
          }
        },
        "040d9603a27e47e5ae8566b380b6391c": {
          "model_module": "@jupyter-widgets/controls",
          "model_name": "FloatProgressModel",
          "model_module_version": "1.5.0",
          "state": {
            "_dom_classes": [],
            "_model_module": "@jupyter-widgets/controls",
            "_model_module_version": "1.5.0",
            "_model_name": "FloatProgressModel",
            "_view_count": null,
            "_view_module": "@jupyter-widgets/controls",
            "_view_module_version": "1.5.0",
            "_view_name": "ProgressView",
            "bar_style": "success",
            "description": "",
            "description_tooltip": null,
            "layout": "IPY_MODEL_7081c0c9baf7479ab2b988671fa1a18f",
            "max": 13,
            "min": 0,
            "orientation": "horizontal",
            "style": "IPY_MODEL_b27337d92a3c4cb08b58391b4da99d88",
            "value": 13
          }
        },
        "92595cd8927541e283dde732a5411410": {
          "model_module": "@jupyter-widgets/controls",
          "model_name": "HTMLModel",
          "model_module_version": "1.5.0",
          "state": {
            "_dom_classes": [],
            "_model_module": "@jupyter-widgets/controls",
            "_model_module_version": "1.5.0",
            "_model_name": "HTMLModel",
            "_view_count": null,
            "_view_module": "@jupyter-widgets/controls",
            "_view_module_version": "1.5.0",
            "_view_name": "HTMLView",
            "description": "",
            "description_tooltip": null,
            "layout": "IPY_MODEL_1d902b8f444e444391cb4b62815b9767",
            "placeholder": "​",
            "style": "IPY_MODEL_e9c625b95ea24da4b3e530764d29fc9b",
            "value": " 13.0/13.0 [00:00&lt;00:00, 364B/s]"
          }
        },
        "6f8e8efdfc004d178b094aee7a19032c": {
          "model_module": "@jupyter-widgets/base",
          "model_name": "LayoutModel",
          "model_module_version": "1.2.0",
          "state": {
            "_model_module": "@jupyter-widgets/base",
            "_model_module_version": "1.2.0",
            "_model_name": "LayoutModel",
            "_view_count": null,
            "_view_module": "@jupyter-widgets/base",
            "_view_module_version": "1.2.0",
            "_view_name": "LayoutView",
            "align_content": null,
            "align_items": null,
            "align_self": null,
            "border": null,
            "bottom": null,
            "display": null,
            "flex": null,
            "flex_flow": null,
            "grid_area": null,
            "grid_auto_columns": null,
            "grid_auto_flow": null,
            "grid_auto_rows": null,
            "grid_column": null,
            "grid_gap": null,
            "grid_row": null,
            "grid_template_areas": null,
            "grid_template_columns": null,
            "grid_template_rows": null,
            "height": null,
            "justify_content": null,
            "justify_items": null,
            "left": null,
            "margin": null,
            "max_height": null,
            "max_width": null,
            "min_height": null,
            "min_width": null,
            "object_fit": null,
            "object_position": null,
            "order": null,
            "overflow": null,
            "overflow_x": null,
            "overflow_y": null,
            "padding": null,
            "right": null,
            "top": null,
            "visibility": null,
            "width": null
          }
        },
        "92e9bf10651c41d4a65515f799149a89": {
          "model_module": "@jupyter-widgets/base",
          "model_name": "LayoutModel",
          "model_module_version": "1.2.0",
          "state": {
            "_model_module": "@jupyter-widgets/base",
            "_model_module_version": "1.2.0",
            "_model_name": "LayoutModel",
            "_view_count": null,
            "_view_module": "@jupyter-widgets/base",
            "_view_module_version": "1.2.0",
            "_view_name": "LayoutView",
            "align_content": null,
            "align_items": null,
            "align_self": null,
            "border": null,
            "bottom": null,
            "display": null,
            "flex": null,
            "flex_flow": null,
            "grid_area": null,
            "grid_auto_columns": null,
            "grid_auto_flow": null,
            "grid_auto_rows": null,
            "grid_column": null,
            "grid_gap": null,
            "grid_row": null,
            "grid_template_areas": null,
            "grid_template_columns": null,
            "grid_template_rows": null,
            "height": null,
            "justify_content": null,
            "justify_items": null,
            "left": null,
            "margin": null,
            "max_height": null,
            "max_width": null,
            "min_height": null,
            "min_width": null,
            "object_fit": null,
            "object_position": null,
            "order": null,
            "overflow": null,
            "overflow_x": null,
            "overflow_y": null,
            "padding": null,
            "right": null,
            "top": null,
            "visibility": null,
            "width": null
          }
        },
        "19f7112ba2504ae7861db2b745446aa5": {
          "model_module": "@jupyter-widgets/controls",
          "model_name": "DescriptionStyleModel",
          "model_module_version": "1.5.0",
          "state": {
            "_model_module": "@jupyter-widgets/controls",
            "_model_module_version": "1.5.0",
            "_model_name": "DescriptionStyleModel",
            "_view_count": null,
            "_view_module": "@jupyter-widgets/base",
            "_view_module_version": "1.2.0",
            "_view_name": "StyleView",
            "description_width": ""
          }
        },
        "7081c0c9baf7479ab2b988671fa1a18f": {
          "model_module": "@jupyter-widgets/base",
          "model_name": "LayoutModel",
          "model_module_version": "1.2.0",
          "state": {
            "_model_module": "@jupyter-widgets/base",
            "_model_module_version": "1.2.0",
            "_model_name": "LayoutModel",
            "_view_count": null,
            "_view_module": "@jupyter-widgets/base",
            "_view_module_version": "1.2.0",
            "_view_name": "LayoutView",
            "align_content": null,
            "align_items": null,
            "align_self": null,
            "border": null,
            "bottom": null,
            "display": null,
            "flex": null,
            "flex_flow": null,
            "grid_area": null,
            "grid_auto_columns": null,
            "grid_auto_flow": null,
            "grid_auto_rows": null,
            "grid_column": null,
            "grid_gap": null,
            "grid_row": null,
            "grid_template_areas": null,
            "grid_template_columns": null,
            "grid_template_rows": null,
            "height": null,
            "justify_content": null,
            "justify_items": null,
            "left": null,
            "margin": null,
            "max_height": null,
            "max_width": null,
            "min_height": null,
            "min_width": null,
            "object_fit": null,
            "object_position": null,
            "order": null,
            "overflow": null,
            "overflow_x": null,
            "overflow_y": null,
            "padding": null,
            "right": null,
            "top": null,
            "visibility": null,
            "width": null
          }
        },
        "b27337d92a3c4cb08b58391b4da99d88": {
          "model_module": "@jupyter-widgets/controls",
          "model_name": "ProgressStyleModel",
          "model_module_version": "1.5.0",
          "state": {
            "_model_module": "@jupyter-widgets/controls",
            "_model_module_version": "1.5.0",
            "_model_name": "ProgressStyleModel",
            "_view_count": null,
            "_view_module": "@jupyter-widgets/base",
            "_view_module_version": "1.2.0",
            "_view_name": "StyleView",
            "bar_color": null,
            "description_width": ""
          }
        },
        "1d902b8f444e444391cb4b62815b9767": {
          "model_module": "@jupyter-widgets/base",
          "model_name": "LayoutModel",
          "model_module_version": "1.2.0",
          "state": {
            "_model_module": "@jupyter-widgets/base",
            "_model_module_version": "1.2.0",
            "_model_name": "LayoutModel",
            "_view_count": null,
            "_view_module": "@jupyter-widgets/base",
            "_view_module_version": "1.2.0",
            "_view_name": "LayoutView",
            "align_content": null,
            "align_items": null,
            "align_self": null,
            "border": null,
            "bottom": null,
            "display": null,
            "flex": null,
            "flex_flow": null,
            "grid_area": null,
            "grid_auto_columns": null,
            "grid_auto_flow": null,
            "grid_auto_rows": null,
            "grid_column": null,
            "grid_gap": null,
            "grid_row": null,
            "grid_template_areas": null,
            "grid_template_columns": null,
            "grid_template_rows": null,
            "height": null,
            "justify_content": null,
            "justify_items": null,
            "left": null,
            "margin": null,
            "max_height": null,
            "max_width": null,
            "min_height": null,
            "min_width": null,
            "object_fit": null,
            "object_position": null,
            "order": null,
            "overflow": null,
            "overflow_x": null,
            "overflow_y": null,
            "padding": null,
            "right": null,
            "top": null,
            "visibility": null,
            "width": null
          }
        },
        "e9c625b95ea24da4b3e530764d29fc9b": {
          "model_module": "@jupyter-widgets/controls",
          "model_name": "DescriptionStyleModel",
          "model_module_version": "1.5.0",
          "state": {
            "_model_module": "@jupyter-widgets/controls",
            "_model_module_version": "1.5.0",
            "_model_name": "DescriptionStyleModel",
            "_view_count": null,
            "_view_module": "@jupyter-widgets/base",
            "_view_module_version": "1.2.0",
            "_view_name": "StyleView",
            "description_width": ""
          }
        }
      }
    }
  },
  "cells": [
    {
      "cell_type": "markdown",
      "metadata": {
        "id": "view-in-github",
        "colab_type": "text"
      },
      "source": [
        "<a href=\"https://colab.research.google.com/github/nateraw/huggingface-hub-examples/blob/main/huggingface_hub_tutorial.ipynb\" target=\"_parent\"><img src=\"https://colab.research.google.com/assets/colab-badge.svg\" alt=\"Open In Colab\"/></a>"
      ]
    },
    {
      "cell_type": "code",
      "execution_count": null,
      "metadata": {
        "id": "xLitwOz3tXjx"
      },
      "outputs": [],
      "source": [
        "%%capture\n",
        "! pip install huggingface_hub\n",
        "! git config --global credential.helper store"
      ]
    },
    {
      "cell_type": "markdown",
      "source": [
        "# Using the Hugging Face Hub Client Library\n",
        "\n",
        "[![gh stars](https://img.shields.io/github/stars/huggingface/huggingface_hub?style=social)](https://github.com/huggingface/huggingface_hub)\n",
        "\n",
        "Hey there! 👋\n",
        "\n",
        "The following is a walkthrough of the `huggingface_hub` library. We'll go over how to create and manage repos, upload/download files, and how you can enable pushing/pulling any machine learning model to and from the Hugging Face Hub."
      ],
      "metadata": {
        "id": "ajZ_EyCRuSx5"
      }
    },
    {
      "cell_type": "markdown",
      "source": [
        "## Authentication\n",
        "\n",
        "To begin, we'll want to make sure we're authenticated with the Hugging Face Hub.\n",
        "\n",
        "> If you don't already have an account, you'll have to [sign up here](https://hf.co/join)!\n",
        "\n",
        "This handy `notebook_login` function below surfaces up a nice little widget for us to log in using a token from [the tokens page](https://huggingface.co/settings/tokens). \n",
        "\n",
        "If you don't have one already, add one! ***Just make sure you specify that it has write access***, since we'll be pushing to the hub.\n",
        "<!-- \n",
        "![add_token.gif](https://huggingface.co/datasets/nateraw/hf-hub-walkthrough-assets/resolve/main/add_token.gif) -->"
      ],
      "metadata": {
        "id": "VCq2_y1yvPmZ"
      }
    },
    {
      "cell_type": "code",
      "source": [
        "from huggingface_hub import notebook_login\n",
        "\n",
        "notebook_login()"
      ],
      "metadata": {
        "colab": {
          "base_uri": "https://localhost:8080/",
          "height": 331,
          "referenced_widgets": [
            "adbc481b9bda47bca07e64e00ebc4ed1",
            "ba8333a7825f4619ac99efa75d7932fd",
            "ea6af37172404ab0b7f5fb2b51ee5c8b",
            "6404194472da45e1bae0e2479af54373",
            "d29fed134d334a9eb11addb4b4b17dd0",
            "68342b12456c46afa3468e0bbe5a7681",
            "83a553698dbd4568b6ad0a1800f2c208",
            "30d3921c812f4e5a9cc135d96fb3faea",
            "a757b9b8eb1f42ffafbe01834c76c6ef",
            "ddc1692a208946dc961ca30c9e2a2f3b",
            "92b4b4c2723c43a9908f1beb79ddc312",
            "2bf49a555f6f4fa19459ad5fcc1f28b9",
            "9666336ec3b74e2095712162a681bb09",
            "0a55e70f385c4db8a14f3fc3834b3cbe",
            "bea2821e93f54289b53d71f276a5fb6e",
            "4b0933499b504fc38ec9b7c5604f4f37",
            "31b79c8b0541448f9b6f47524968ce79"
          ]
        },
        "id": "8TGyGUv7uQFu",
        "outputId": "138b1214-23e4-4dae-c87a-9561454597be"
      },
      "execution_count": null,
      "outputs": [
        {
          "output_type": "stream",
          "name": "stdout",
          "text": [
            "Login successful\n",
            "Your token has been saved to /root/.huggingface/token\n"
          ]
        }
      ]
    },
    {
      "cell_type": "markdown",
      "source": [
        "We can use `huggingface_hub.whoami` to see our authenticated user's information. Here, we'll use it to grab our username so we can use it programmatically throughout this notebook."
      ],
      "metadata": {
        "id": "aNfRX8bL2Y89"
      }
    },
    {
      "cell_type": "code",
      "source": [
        "from huggingface_hub import whoami\n",
        "\n",
        "user_info = whoami()\n",
        "username = user_info['name']\n",
        "\n",
        "print(f\"You're logged in as: {username}. Your profile can be found at https://hf.co/{username}\")"
      ],
      "metadata": {
        "colab": {
          "base_uri": "https://localhost:8080/"
        },
        "id": "ploTsQ8f2gQg",
        "outputId": "3978fd9e-154e-4e62-c622-42f407de076f"
      },
      "execution_count": null,
      "outputs": [
        {
          "output_type": "stream",
          "name": "stdout",
          "text": [
            "You're logged in as: nateraw. Your profile can be found at https://hf.co/nateraw\n"
          ]
        }
      ]
    },
    {
      "cell_type": "markdown",
      "source": [
        "## Managing Repositories on the Hub"
      ],
      "metadata": {
        "id": "ufA-h63f1MXj"
      }
    },
    {
      "cell_type": "markdown",
      "source": [
        "#### Create a Repo\n",
        "\n",
        "Let's begin by creating a model repo using the `create_repo` function. We'll provide `exist_ok=True` to make sure we don't run into any errors if the repo already exists under our profile."
      ],
      "metadata": {
        "id": "31wSafo_1SL3"
      }
    },
    {
      "cell_type": "code",
      "source": [
        "from huggingface_hub import create_repo, delete_repo\n",
        "\n",
        "repo_id = f\"{username}/deleteme-test-repo\"\n",
        "repo_url = create_repo(repo_id, exist_ok=True)\n",
        "\n",
        "print(f\"Nice! We just created a repo at: {repo_url}\")"
      ],
      "metadata": {
        "colab": {
          "base_uri": "https://localhost:8080/"
        },
        "id": "dcYC39ip0Qa5",
        "outputId": "9dfee2e6-324c-436a-8c6c-948a844ab6e5"
      },
      "execution_count": null,
      "outputs": [
        {
          "output_type": "stream",
          "name": "stdout",
          "text": [
            "Nice! We just created a repo at: https://huggingface.co/nateraw/deleteme-test-repo\n"
          ]
        }
      ]
    },
    {
      "cell_type": "markdown",
      "source": [
        "#### Delete a Repo\n",
        "\n",
        "We created the repo above just so we could see how to delete a repo. Let's try that now by using the `delete_repo` function.\n",
        "\n",
        "⚠️ **Be careful with this function when using it in your own projects - it's final!** "
      ],
      "metadata": {
        "id": "i9plhQCi0UyF"
      }
    },
    {
      "cell_type": "code",
      "source": [
        "delete_repo(repo_id)\n",
        "\n",
        "print(f\"RIP our beautiful repo. We should be seeing a 404 now at: {repo_url}\")"
      ],
      "metadata": {
        "id": "s5lkWbW71C2-",
        "colab": {
          "base_uri": "https://localhost:8080/"
        },
        "outputId": "ab53ee7e-0151-4ab0-c0ca-5e4172fe5a51"
      },
      "execution_count": null,
      "outputs": [
        {
          "output_type": "stream",
          "name": "stdout",
          "text": [
            "RIP our beautiful repo. We should be seeing a 404 now at: https://huggingface.co/nateraw/deleteme-test-repo\n"
          ]
        }
      ]
    },
    {
      "cell_type": "markdown",
      "source": [
        "💨 Poof! Just like that it's gone."
      ],
      "metadata": {
        "id": "RmBQi3PJ1Jhy"
      }
    },
    {
      "cell_type": "markdown",
      "source": [
        "## Interacting with Repos\n",
        "\n",
        "Let's create another repo. This time, let's see how we can interact with it. We'll name it something cool now since we don't plan on deleting this one right away."
      ],
      "metadata": {
        "id": "Pc-_p_Rz3CJl"
      }
    },
    {
      "cell_type": "code",
      "source": [
        "repo_id = f\"{username}/my-cool-repo\"\n",
        "\n",
        "repo_url = create_repo(repo_id, exist_ok=True)\n",
        "print(f\"Made a shiny new model repo at: {repo_url}\")"
      ],
      "metadata": {
        "colab": {
          "base_uri": "https://localhost:8080/"
        },
        "id": "CVkuJM-c1Y67",
        "outputId": "cbaa2c2f-02cf-4044-a75f-a8f8b76c7c89"
      },
      "execution_count": null,
      "outputs": [
        {
          "output_type": "stream",
          "name": "stdout",
          "text": [
            "Made a shiny new model repo at: https://huggingface.co/nateraw/my-cool-repo\n"
          ]
        }
      ]
    },
    {
      "cell_type": "markdown",
      "source": [
        "#### Upload a file to your repo\n",
        "\n",
        "Let's see how we can upload a file to the repo. To do that, we'll need something to upload. So, let's create a dummy text file called `test_file.txt`."
      ],
      "metadata": {
        "id": "iPlSfL3-3P_m"
      }
    },
    {
      "cell_type": "code",
      "source": [
        "filepath = 'test_file.txt'\n",
        "with open(filepath, 'w') as f:\n",
        "    f.write(\"Hello, world!\")"
      ],
      "metadata": {
        "id": "YMImPdNe3aQi"
      },
      "execution_count": null,
      "outputs": []
    },
    {
      "cell_type": "markdown",
      "source": [
        "Now lets upload that file to our repo using the `upload_file` function. This function takes in a few required keyword arguments:\n",
        "\n",
        "- path_or_fileobj: Path to a file on the local machine or binary data stream / fileobj / buffer.\n",
        "- path_in_repo: Relative filepath in the repo. Ex: `\"checkpoints/lfec34a/weights.bin\"`\n",
        "- repo_id: The repository to which the file will be uploaded. Ex: `\"username/my-cool-repo\"`"
      ],
      "metadata": {
        "id": "xjU7mki13y0b"
      }
    },
    {
      "cell_type": "code",
      "source": [
        "from huggingface_hub import upload_file\n",
        "\n",
        "file_url = upload_file(\n",
        "    path_or_fileobj=filepath,\n",
        "    path_in_repo=filepath,\n",
        "    repo_id=repo_id,\n",
        ")\n",
        "print(f\"Done! Check out the uploaded file here: {file_url}\")"
      ],
      "metadata": {
        "colab": {
          "base_uri": "https://localhost:8080/"
        },
        "id": "3R3AZzOH30Yr",
        "outputId": "0050d899-7f30-4182-ae08-6a33782434ce"
      },
      "execution_count": null,
      "outputs": [
        {
          "output_type": "stream",
          "name": "stdout",
          "text": [
            "Done! Check out the uploaded file here: https://huggingface.co/nateraw/my-cool-repo/blob/main/test_file.txt\n"
          ]
        }
      ]
    },
    {
      "cell_type": "markdown",
      "source": [
        "#### Downloading a file from your repo\n",
        "\n",
        "Now that we've got something up there, let's download it using the `hf_hub_download` function.\n",
        "\n",
        "Here, we just have to specify the repo and the filepath in the repo that we wish to download. In our case, its `\"test_file.txt\"`. "
      ],
      "metadata": {
        "id": "9YtmeS1O4HxB"
      }
    },
    {
      "cell_type": "code",
      "source": [
        "from huggingface_hub import hf_hub_download\n",
        "\n",
        "cache_filepath = hf_hub_download(repo_id, filepath)\n",
        "print(cache_filepath)"
      ],
      "metadata": {
        "colab": {
          "base_uri": "https://localhost:8080/",
          "height": 86,
          "referenced_widgets": [
            "25e0c8f8d0134e72ab6f571d8346a974",
            "c8abf953665d48fbbde10a5eeb397f5c",
            "040d9603a27e47e5ae8566b380b6391c",
            "92595cd8927541e283dde732a5411410",
            "6f8e8efdfc004d178b094aee7a19032c",
            "92e9bf10651c41d4a65515f799149a89",
            "19f7112ba2504ae7861db2b745446aa5",
            "7081c0c9baf7479ab2b988671fa1a18f",
            "b27337d92a3c4cb08b58391b4da99d88",
            "1d902b8f444e444391cb4b62815b9767",
            "e9c625b95ea24da4b3e530764d29fc9b"
          ]
        },
        "id": "-84POiOi4WRY",
        "outputId": "c5579800-8036-4937-d88c-abb3105f7e9b"
      },
      "execution_count": null,
      "outputs": [
        {
          "output_type": "display_data",
          "data": {
            "text/plain": [
              "Downloading:   0%|          | 0.00/13.0 [00:00<?, ?B/s]"
            ],
            "application/vnd.jupyter.widget-view+json": {
              "version_major": 2,
              "version_minor": 0,
              "model_id": "25e0c8f8d0134e72ab6f571d8346a974"
            }
          },
          "metadata": {}
        },
        {
          "output_type": "stream",
          "name": "stdout",
          "text": [
            "/root/.cache/huggingface/hub/c4ec643a7f6799023b0f36fbe8adaf26fad5875d935042e40a55c7d4b8abe4e8.31f3cc0f08a75796b7017d7c5e8611156388c341fd140724a79da30e67c9a6aa\n"
          ]
        }
      ]
    },
    {
      "cell_type": "markdown",
      "source": [
        "📝 This file is actually a version controlled cache file. If we go to download it again, it'll just load from cache if it's the latest revision in your repo.\n",
        "\n",
        "Let's open that file up and read its contents to make sure it matches what we wrote above."
      ],
      "metadata": {
        "id": "6SPeBHKq5lv1"
      }
    },
    {
      "cell_type": "code",
      "source": [
        "with open(cache_filepath, 'r') as f:\n",
        "    text = f.read()\n",
        "print(text)"
      ],
      "metadata": {
        "colab": {
          "base_uri": "https://localhost:8080/"
        },
        "id": "7nYCxNrY4qoS",
        "outputId": "f71b3e53-a533-47ff-e71c-fc4087c05eb6"
      },
      "execution_count": null,
      "outputs": [
        {
          "output_type": "stream",
          "name": "stdout",
          "text": [
            "Hello, world!\n"
          ]
        }
      ]
    },
    {
      "cell_type": "markdown",
      "source": [
        "And it does! Sweet."
      ],
      "metadata": {
        "id": "xRpukZLu5knm"
      }
    },
    {
      "cell_type": "markdown",
      "source": [
        "## Deleting a file in your repo\n",
        "\n",
        "Let's delete `\"test_file.txt\"` using the `delete_file` function so we can clean up our repo for the next example."
      ],
      "metadata": {
        "id": "77xHMpl8xXTN"
      }
    },
    {
      "cell_type": "code",
      "source": [
        "from huggingface_hub import delete_file\n",
        "\n",
        "delete_file(filepath, repo_id)"
      ],
      "metadata": {
        "id": "9EbsKojSxknP"
      },
      "execution_count": null,
      "outputs": []
    },
    {
      "cell_type": "markdown",
      "source": [
        "🗑 Awesome, the file is gone now! Let's move on to a more exciting example..."
      ],
      "metadata": {
        "id": "ROitmOntx3Ou"
      }
    },
    {
      "cell_type": "markdown",
      "source": [
        "## Pushing Machine Learning Models to the Hugging Face Hub\n",
        "\n",
        "So we've seen how we can manage repos and files on the Hub. Now, let's put these tools to work and upload an actual model. 🚀"
      ],
      "metadata": {
        "id": "bJZt-IB3yAEg"
      }
    },
    {
      "cell_type": "markdown",
      "source": [
        "## 🚧 This part is a WIP, just started! 🚧\n",
        "\n",
        "> I'm trying to figure out what's the best way to go here. Is it even to show a ML model? Is PyTorch going to make people think it only works for PyTorch?\n",
        "> \n",
        "> One thought I have is to make a simple custom object that pushes a dict or something? Like a custom pretrained config class, almost. Idk."
      ],
      "metadata": {
        "id": "uAxC8oJyJvYe"
      }
    },
    {
      "cell_type": "code",
      "source": [
        "import torch\n",
        "from torch.nn import Sequential, Linear\n",
        "\n",
        "input_dim, output_dim = 784, 10\n",
        "model = Sequential(Linear(input_dim, output_dim))"
      ],
      "metadata": {
        "colab": {
          "base_uri": "https://localhost:8080/"
        },
        "id": "_gtdbveGzGNI",
        "outputId": "f7a86169-bcde-46b5-c3ae-6f4e92b7b454"
      },
      "execution_count": null,
      "outputs": [
        {
          "output_type": "execute_result",
          "data": {
            "text/plain": [
              "tensor([[ 0.4113, -0.0800,  0.2622, -0.1242, -0.5018,  0.1229, -0.0310, -0.2269,\n",
              "         -0.2883, -0.2686]], grad_fn=<AddmmBackward0>)"
            ]
          },
          "metadata": {},
          "execution_count": 36
        }
      ]
    },
    {
      "cell_type": "code",
      "source": [
        "x = torch.ones(1, input_dim)\n",
        "output = model(x)\n",
        "print(f\"Shape of output: {output.shape}\")"
      ],
      "metadata": {
        "colab": {
          "base_uri": "https://localhost:8080/"
        },
        "id": "P2vxY84D1lel",
        "outputId": "8c2f3b66-e3a7-4329-873a-516e228a11c3"
      },
      "execution_count": null,
      "outputs": [
        {
          "output_type": "stream",
          "name": "stdout",
          "text": [
            "Shape of output: torch.Size([1, 10])\n"
          ]
        }
      ]
    },
    {
      "cell_type": "code",
      "source": [
        ""
      ],
      "metadata": {
        "id": "qKukENXX14-p"
      },
      "execution_count": null,
      "outputs": []
    }
  ]
}