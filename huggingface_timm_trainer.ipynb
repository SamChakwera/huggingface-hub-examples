{
  "nbformat": 4,
  "nbformat_minor": 0,
  "metadata": {
    "accelerator": "GPU",
    "colab": {
      "name": "huggingface-timm-trainer.ipynb",
      "provenance": [],
      "collapsed_sections": [],
      "authorship_tag": "ABX9TyMlKAe94W9O79CjaV+cPKpW",
      "include_colab_link": true
    },
    "kernelspec": {
      "display_name": "Python 3",
      "name": "python3"
    },
    "language_info": {
      "name": "python"
    },
    "widgets": {
      "application/vnd.jupyter.widget-state+json": {
        "6ec1f2372c9f462f84c9f4d471a74ac8": {
          "model_module": "@jupyter-widgets/controls",
          "model_name": "HBoxModel",
          "model_module_version": "1.5.0",
          "state": {
            "_view_name": "HBoxView",
            "_dom_classes": [],
            "_model_name": "HBoxModel",
            "_view_module": "@jupyter-widgets/controls",
            "_model_module_version": "1.5.0",
            "_view_count": null,
            "_view_module_version": "1.5.0",
            "box_style": "",
            "layout": "IPY_MODEL_b92aaac3385a49c1b7520e9d9883873e",
            "_model_module": "@jupyter-widgets/controls",
            "children": [
              "IPY_MODEL_7b42fa6c3b4745578d40f94607370de9",
              "IPY_MODEL_fdd7f16a1a0244de8a118b42ab1d1a35",
              "IPY_MODEL_dbed5e65f7d249149a0b45c883e83a2d"
            ]
          }
        },
        "b92aaac3385a49c1b7520e9d9883873e": {
          "model_module": "@jupyter-widgets/base",
          "model_name": "LayoutModel",
          "model_module_version": "1.2.0",
          "state": {
            "_view_name": "LayoutView",
            "grid_template_rows": null,
            "right": null,
            "justify_content": null,
            "_view_module": "@jupyter-widgets/base",
            "overflow": null,
            "_model_module_version": "1.2.0",
            "_view_count": null,
            "flex_flow": null,
            "width": null,
            "min_width": null,
            "border": null,
            "align_items": null,
            "bottom": null,
            "_model_module": "@jupyter-widgets/base",
            "top": null,
            "grid_column": null,
            "overflow_y": null,
            "overflow_x": null,
            "grid_auto_flow": null,
            "grid_area": null,
            "grid_template_columns": null,
            "flex": null,
            "_model_name": "LayoutModel",
            "justify_items": null,
            "grid_row": null,
            "max_height": null,
            "align_content": null,
            "visibility": null,
            "align_self": null,
            "height": null,
            "min_height": null,
            "padding": null,
            "grid_auto_rows": null,
            "grid_gap": null,
            "max_width": null,
            "order": null,
            "_view_module_version": "1.2.0",
            "grid_template_areas": null,
            "object_position": null,
            "object_fit": null,
            "grid_auto_columns": null,
            "margin": null,
            "display": null,
            "left": null
          }
        },
        "7b42fa6c3b4745578d40f94607370de9": {
          "model_module": "@jupyter-widgets/controls",
          "model_name": "HTMLModel",
          "model_module_version": "1.5.0",
          "state": {
            "_view_name": "HTMLView",
            "style": "IPY_MODEL_7314bc8be48e41229ca36932b8a8bdeb",
            "_dom_classes": [],
            "description": "",
            "_model_name": "HTMLModel",
            "placeholder": "​",
            "_view_module": "@jupyter-widgets/controls",
            "_model_module_version": "1.5.0",
            "value": "100%",
            "_view_count": null,
            "_view_module_version": "1.5.0",
            "description_tooltip": null,
            "_model_module": "@jupyter-widgets/controls",
            "layout": "IPY_MODEL_4b271823c4b94c3eb3f7c5caf8f2fd94"
          }
        },
        "fdd7f16a1a0244de8a118b42ab1d1a35": {
          "model_module": "@jupyter-widgets/controls",
          "model_name": "FloatProgressModel",
          "model_module_version": "1.5.0",
          "state": {
            "_view_name": "ProgressView",
            "style": "IPY_MODEL_45da5dd250fc40a1aa120f90e8065fae",
            "_dom_classes": [],
            "description": "",
            "_model_name": "FloatProgressModel",
            "bar_style": "success",
            "max": 1,
            "_view_module": "@jupyter-widgets/controls",
            "_model_module_version": "1.5.0",
            "value": 1,
            "_view_count": null,
            "_view_module_version": "1.5.0",
            "orientation": "horizontal",
            "min": 0,
            "description_tooltip": null,
            "_model_module": "@jupyter-widgets/controls",
            "layout": "IPY_MODEL_a93a9223434046e7b2ba6fc6f9869f97"
          }
        },
        "dbed5e65f7d249149a0b45c883e83a2d": {
          "model_module": "@jupyter-widgets/controls",
          "model_name": "HTMLModel",
          "model_module_version": "1.5.0",
          "state": {
            "_view_name": "HTMLView",
            "style": "IPY_MODEL_a641815dd8b54bbab338c1b1a4655798",
            "_dom_classes": [],
            "description": "",
            "_model_name": "HTMLModel",
            "placeholder": "​",
            "_view_module": "@jupyter-widgets/controls",
            "_model_module_version": "1.5.0",
            "value": " 1/1 [00:00&lt;00:00, 32.04it/s]",
            "_view_count": null,
            "_view_module_version": "1.5.0",
            "description_tooltip": null,
            "_model_module": "@jupyter-widgets/controls",
            "layout": "IPY_MODEL_c2645e651d674d1c87b20e9e28920e6c"
          }
        },
        "7314bc8be48e41229ca36932b8a8bdeb": {
          "model_module": "@jupyter-widgets/controls",
          "model_name": "DescriptionStyleModel",
          "model_module_version": "1.5.0",
          "state": {
            "_view_name": "StyleView",
            "_model_name": "DescriptionStyleModel",
            "description_width": "",
            "_view_module": "@jupyter-widgets/base",
            "_model_module_version": "1.5.0",
            "_view_count": null,
            "_view_module_version": "1.2.0",
            "_model_module": "@jupyter-widgets/controls"
          }
        },
        "4b271823c4b94c3eb3f7c5caf8f2fd94": {
          "model_module": "@jupyter-widgets/base",
          "model_name": "LayoutModel",
          "model_module_version": "1.2.0",
          "state": {
            "_view_name": "LayoutView",
            "grid_template_rows": null,
            "right": null,
            "justify_content": null,
            "_view_module": "@jupyter-widgets/base",
            "overflow": null,
            "_model_module_version": "1.2.0",
            "_view_count": null,
            "flex_flow": null,
            "width": null,
            "min_width": null,
            "border": null,
            "align_items": null,
            "bottom": null,
            "_model_module": "@jupyter-widgets/base",
            "top": null,
            "grid_column": null,
            "overflow_y": null,
            "overflow_x": null,
            "grid_auto_flow": null,
            "grid_area": null,
            "grid_template_columns": null,
            "flex": null,
            "_model_name": "LayoutModel",
            "justify_items": null,
            "grid_row": null,
            "max_height": null,
            "align_content": null,
            "visibility": null,
            "align_self": null,
            "height": null,
            "min_height": null,
            "padding": null,
            "grid_auto_rows": null,
            "grid_gap": null,
            "max_width": null,
            "order": null,
            "_view_module_version": "1.2.0",
            "grid_template_areas": null,
            "object_position": null,
            "object_fit": null,
            "grid_auto_columns": null,
            "margin": null,
            "display": null,
            "left": null
          }
        },
        "45da5dd250fc40a1aa120f90e8065fae": {
          "model_module": "@jupyter-widgets/controls",
          "model_name": "ProgressStyleModel",
          "model_module_version": "1.5.0",
          "state": {
            "_view_name": "StyleView",
            "_model_name": "ProgressStyleModel",
            "description_width": "",
            "_view_module": "@jupyter-widgets/base",
            "_model_module_version": "1.5.0",
            "_view_count": null,
            "_view_module_version": "1.2.0",
            "bar_color": null,
            "_model_module": "@jupyter-widgets/controls"
          }
        },
        "a93a9223434046e7b2ba6fc6f9869f97": {
          "model_module": "@jupyter-widgets/base",
          "model_name": "LayoutModel",
          "model_module_version": "1.2.0",
          "state": {
            "_view_name": "LayoutView",
            "grid_template_rows": null,
            "right": null,
            "justify_content": null,
            "_view_module": "@jupyter-widgets/base",
            "overflow": null,
            "_model_module_version": "1.2.0",
            "_view_count": null,
            "flex_flow": null,
            "width": null,
            "min_width": null,
            "border": null,
            "align_items": null,
            "bottom": null,
            "_model_module": "@jupyter-widgets/base",
            "top": null,
            "grid_column": null,
            "overflow_y": null,
            "overflow_x": null,
            "grid_auto_flow": null,
            "grid_area": null,
            "grid_template_columns": null,
            "flex": null,
            "_model_name": "LayoutModel",
            "justify_items": null,
            "grid_row": null,
            "max_height": null,
            "align_content": null,
            "visibility": null,
            "align_self": null,
            "height": null,
            "min_height": null,
            "padding": null,
            "grid_auto_rows": null,
            "grid_gap": null,
            "max_width": null,
            "order": null,
            "_view_module_version": "1.2.0",
            "grid_template_areas": null,
            "object_position": null,
            "object_fit": null,
            "grid_auto_columns": null,
            "margin": null,
            "display": null,
            "left": null
          }
        },
        "a641815dd8b54bbab338c1b1a4655798": {
          "model_module": "@jupyter-widgets/controls",
          "model_name": "DescriptionStyleModel",
          "model_module_version": "1.5.0",
          "state": {
            "_view_name": "StyleView",
            "_model_name": "DescriptionStyleModel",
            "description_width": "",
            "_view_module": "@jupyter-widgets/base",
            "_model_module_version": "1.5.0",
            "_view_count": null,
            "_view_module_version": "1.2.0",
            "_model_module": "@jupyter-widgets/controls"
          }
        },
        "c2645e651d674d1c87b20e9e28920e6c": {
          "model_module": "@jupyter-widgets/base",
          "model_name": "LayoutModel",
          "model_module_version": "1.2.0",
          "state": {
            "_view_name": "LayoutView",
            "grid_template_rows": null,
            "right": null,
            "justify_content": null,
            "_view_module": "@jupyter-widgets/base",
            "overflow": null,
            "_model_module_version": "1.2.0",
            "_view_count": null,
            "flex_flow": null,
            "width": null,
            "min_width": null,
            "border": null,
            "align_items": null,
            "bottom": null,
            "_model_module": "@jupyter-widgets/base",
            "top": null,
            "grid_column": null,
            "overflow_y": null,
            "overflow_x": null,
            "grid_auto_flow": null,
            "grid_area": null,
            "grid_template_columns": null,
            "flex": null,
            "_model_name": "LayoutModel",
            "justify_items": null,
            "grid_row": null,
            "max_height": null,
            "align_content": null,
            "visibility": null,
            "align_self": null,
            "height": null,
            "min_height": null,
            "padding": null,
            "grid_auto_rows": null,
            "grid_gap": null,
            "max_width": null,
            "order": null,
            "_view_module_version": "1.2.0",
            "grid_template_areas": null,
            "object_position": null,
            "object_fit": null,
            "grid_auto_columns": null,
            "margin": null,
            "display": null,
            "left": null
          }
        }
      }
    }
  },
  "cells": [
    {
      "cell_type": "markdown",
      "metadata": {
        "id": "view-in-github",
        "colab_type": "text"
      },
      "source": [
        "<a href=\"https://colab.research.google.com/github/nateraw/huggingface-hub-examples/blob/main/huggingface_timm_trainer.ipynb\" target=\"_parent\"><img src=\"https://colab.research.google.com/assets/colab-badge.svg\" alt=\"Open In Colab\"/></a>"
      ]
    },
    {
      "cell_type": "code",
      "metadata": {
        "id": "Qzj8GsMPpb3x"
      },
      "source": [
        "%%capture\n",
        "! pip install git+https://github.com/nateraw/pytorch-image-models.git@hf-save-and-push --upgrade\n",
        "! pip install transformers datasets huggingface_hub\n",
        "! apt install git-lfs\n",
        "! git config --global credential.helper store"
      ],
      "execution_count": 1,
      "outputs": []
    },
    {
      "cell_type": "code",
      "metadata": {
        "colab": {
          "base_uri": "https://localhost:8080/"
        },
        "id": "0QTaq-oupg8t",
        "outputId": "dbecebf8-28df-4a87-f33f-58584420555c"
      },
      "source": [
        "! huggingface-cli login"
      ],
      "execution_count": 26,
      "outputs": [
        {
          "output_type": "stream",
          "name": "stdout",
          "text": [
            "\n",
            "        _|    _|  _|    _|    _|_|_|    _|_|_|  _|_|_|  _|      _|    _|_|_|      _|_|_|_|    _|_|      _|_|_|  _|_|_|_|\n",
            "        _|    _|  _|    _|  _|        _|          _|    _|_|    _|  _|            _|        _|    _|  _|        _|\n",
            "        _|_|_|_|  _|    _|  _|  _|_|  _|  _|_|    _|    _|  _|  _|  _|  _|_|      _|_|_|    _|_|_|_|  _|        _|_|_|\n",
            "        _|    _|  _|    _|  _|    _|  _|    _|    _|    _|    _|_|  _|    _|      _|        _|    _|  _|        _|\n",
            "        _|    _|    _|_|      _|_|_|    _|_|_|  _|_|_|  _|      _|    _|_|_|      _|        _|    _|    _|_|_|  _|_|_|_|\n",
            "\n",
            "        \n",
            "Username: nateraw\n",
            "Password: \n",
            "Login successful\n",
            "Your token has been saved to /root/.huggingface/token\n"
          ]
        }
      ]
    },
    {
      "cell_type": "markdown",
      "metadata": {
        "id": "Y0KW9fHMphYb"
      },
      "source": [
        "To train and push a `timm` model, its as simple as this:\n",
        "\n",
        "```python\n",
        "import timm\n",
        "\n",
        "# Build a model 🔧\n",
        "model = timm.create_model('resnet18', pretrained=True, num_classes=4)\n",
        "\n",
        "# Push it to the 🤗 hub \n",
        "timm.models.hub.push_to_hf_hub(\n",
        "    model,\n",
        "    repo_path_or_name='resnet18-random-classifier',\n",
        "    commit_message='😎 Pushed from timm',\n",
        "    git_user='nateraw',\n",
        "    git_email='naterawdata@gmail.com',\n",
        "    config={'num_classes': model.num_classes}\n",
        ")\n",
        "\n",
        "# Load from hub 🔥\n",
        "model_reloaded = timm.create_model(\n",
        "    'hf_hub:nateraw/resnet18-random-classifier',\n",
        "    pretrained=True\n",
        ")\n",
        "```"
      ]
    },
    {
      "cell_type": "markdown",
      "metadata": {
        "id": "iw33snjhqBkM"
      },
      "source": [
        "## Fine-tuning a `timm` model\n",
        "\n",
        "Instead of pushing up a random classifier like the snippet above does, lets fine-tune a `timm` model using the `Trainer` from `transformers`. "
      ]
    },
    {
      "cell_type": "code",
      "metadata": {
        "id": "fMlPNhbgqNuH"
      },
      "source": [
        "import json\n",
        "import logging\n",
        "import os\n",
        "from datetime import datetime\n",
        "from typing import Optional\n",
        "\n",
        "import datasets\n",
        "import numpy as np\n",
        "import timm\n",
        "import torch\n",
        "from PIL import Image\n",
        "from timm.data import resolve_data_config\n",
        "from timm.data.transforms_factory import create_transform\n",
        "from transformers import HfArgumentParser, Trainer, TrainingArguments\n",
        "from transformers.modeling_utils import ModelOutput\n",
        "\n",
        "logger = logging.getLogger(__name__)"
      ],
      "execution_count": 2,
      "outputs": []
    },
    {
      "cell_type": "code",
      "metadata": {
        "id": "iGmu9zJBqRGC"
      },
      "source": [
        "class TimmTrainer(Trainer):\n",
        "    def compute_loss(self, model, inputs, return_outputs=False):\n",
        "        logits = model(inputs[\"pixel_values\"])\n",
        "        labels = inputs.get(\"labels\")\n",
        "\n",
        "        loss = None\n",
        "        if labels is not None:\n",
        "            loss_fct = torch.nn.CrossEntropyLoss()\n",
        "            loss = loss_fct(logits.view(-1, model.num_classes), labels.view(-1))\n",
        "\n",
        "        return (loss, ModelOutput(logits=logits, loss=loss)) if return_outputs else loss\n",
        "\n",
        "    def _save(self, output_dir: Optional[str] = None, state_dict=None):\n",
        "        # If we are executing this function, we are the process zero, so we don't check for that.\n",
        "        output_dir = output_dir if output_dir is not None else self.args.output_dir\n",
        "        os.makedirs(output_dir, exist_ok=True)\n",
        "        logger.info(f\"Saving model checkpoint to {output_dir}\")\n",
        "\n",
        "        # Save the model\n",
        "        timm.models.hub.save_pretrained_for_hf(self.model, output_dir)\n",
        "\n",
        "        # Good practice: save your training arguments together with the trained model\n",
        "        torch.save(self.args, os.path.join(output_dir, \"training_args.bin\"))"
      ],
      "execution_count": 4,
      "outputs": []
    },
    {
      "cell_type": "code",
      "metadata": {
        "id": "R0H7VYmDqr39"
      },
      "source": [
        "def collate_fn(examples):\n",
        "    pixel_values = torch.stack([example[\"pixel_values\"] for example in examples])\n",
        "    labels = torch.tensor([example[\"labels\"] for example in examples])\n",
        "    return {\"pixel_values\": pixel_values, \"labels\": labels}\n",
        "\n",
        "def compute_metrics(p):\n",
        "    acc1, acc5 = timm.utils.metrics.accuracy(\n",
        "        torch.tensor(p.predictions, dtype=torch.float32),\n",
        "        torch.tensor(p.label_ids), topk=(1, 5)\n",
        "    )\n",
        "    return {'acc1': acc1, 'acc5': acc5}"
      ],
      "execution_count": 29,
      "outputs": []
    },
    {
      "cell_type": "code",
      "metadata": {
        "id": "N1-9gMWlqvQO"
      },
      "source": [
        "class TimmTransforms:\n",
        "    def __init__(self, data_config):\n",
        "        self.data_config = data_config\n",
        "        self._train_transforms = create_transform(is_training=True, **data_config)\n",
        "        self._val_transforms = create_transform(is_training=False, **data_config)\n",
        "\n",
        "    def pil_loader(self, path):\n",
        "        with open(path, \"rb\") as f:\n",
        "            im = Image.open(path)\n",
        "            im = im.convert(\"RGB\")\n",
        "        return im\n",
        "\n",
        "    def train_transforms(self, example_batch):\n",
        "        \"\"\"Apply _train_transforms across a batch.\"\"\"\n",
        "        example_batch[\"pixel_values\"] = [\n",
        "            self._train_transforms(self.pil_loader(f)) for f in example_batch[\"image_file_path\"]\n",
        "        ]\n",
        "        return example_batch\n",
        "\n",
        "    def val_transforms(self, example_batch):\n",
        "        \"\"\"Apply _val_transforms across a batch.\"\"\"\n",
        "        example_batch[\"pixel_values\"] = [\n",
        "            self._val_transforms(self.pil_loader(f)) for f in example_batch[\"image_file_path\"]\n",
        "        ]\n",
        "        return example_batch"
      ],
      "execution_count": 30,
      "outputs": []
    },
    {
      "cell_type": "code",
      "metadata": {
        "colab": {
          "base_uri": "https://localhost:8080/",
          "height": 474,
          "referenced_widgets": [
            "6ec1f2372c9f462f84c9f4d471a74ac8",
            "b92aaac3385a49c1b7520e9d9883873e",
            "7b42fa6c3b4745578d40f94607370de9",
            "fdd7f16a1a0244de8a118b42ab1d1a35",
            "dbed5e65f7d249149a0b45c883e83a2d",
            "7314bc8be48e41229ca36932b8a8bdeb",
            "4b271823c4b94c3eb3f7c5caf8f2fd94",
            "45da5dd250fc40a1aa120f90e8065fae",
            "a93a9223434046e7b2ba6fc6f9869f97",
            "a641815dd8b54bbab338c1b1a4655798",
            "c2645e651d674d1c87b20e9e28920e6c"
          ]
        },
        "id": "-sGLox0rqxsC",
        "outputId": "813636ee-2553-49f4-87c0-4af6ee0ecd93"
      },
      "source": [
        "model_name = 'resnet18'\n",
        "dataset_name = 'cats_vs_dogs'\n",
        "timestamp = datetime.now().strftime(\"%Y-%m-%d-%H%M%S\")\n",
        "hf_hub_model_id = 'nateraw/my-cool-timm-model-3'\n",
        "\n",
        "# Percent of train to use as val\n",
        "val_split_percent = 0.20\n",
        "# Percent of val to use as test\n",
        "test_split_percent = 0.25\n",
        "\n",
        "# Define Training Arguments\n",
        "training_args = TrainingArguments(\n",
        "    output_dir=f'{model_name}-{dataset_name}-{timestamp}',\n",
        "    remove_unused_columns=False,\n",
        "    evaluation_strategy='epoch',\n",
        "    report_to='tensorboard',\n",
        "    push_to_hub=True,\n",
        "    logging_strategy='steps',\n",
        "    logging_steps=10,\n",
        "    per_device_train_batch_size=256,\n",
        "    per_device_eval_batch_size=256,\n",
        "    fp16=True,\n",
        "    max_steps=10,\n",
        "    hub_model_id=hf_hub_model_id\n",
        ")\n",
        "\n",
        "# Init Dataset\n",
        "ds = datasets.load_dataset(dataset_name, task=\"image-classification\")\n",
        "\n",
        "# Init model\n",
        "model = timm.create_model(\n",
        "    model_name,\n",
        "    pretrained=True,\n",
        "    num_classes=len(ds[\"train\"].features[\"labels\"].names),\n",
        ")\n",
        "\n",
        "# Define transforms\n",
        "data_config = resolve_data_config({}, model=model)\n",
        "transforms = TimmTransforms(data_config)\n",
        "\n",
        "if 'validation' not in ds:\n",
        "    split = ds[\"train\"].train_test_split(val_split_percent)\n",
        "    ds[\"train\"] = split[\"train\"]\n",
        "    ds[\"validation\"] = split[\"test\"]\n",
        "if 'test' not in ds:\n",
        "    split = ds[\"validation\"].train_test_split(test_split_percent)\n",
        "    ds[\"validation\"] = split[\"train\"]\n",
        "    ds[\"test\"] = split[\"test\"]\n",
        "\n",
        "# Init Trainer\n",
        "trainer = TimmTrainer(\n",
        "    model,\n",
        "    training_args,\n",
        "    data_collator=collate_fn,\n",
        "    train_dataset=ds[\"train\"].with_transform(transforms.train_transforms),\n",
        "    eval_dataset=ds[\"validation\"].with_transform(transforms.val_transforms),\n",
        "    tokenizer=None,\n",
        "    compute_metrics=compute_metrics,\n",
        ")\n",
        "\n",
        "# Training\n",
        "train_results = trainer.train()\n",
        "trainer.save_model()\n",
        "trainer.log_metrics(\"train\", train_results.metrics)\n",
        "trainer.save_metrics(\"train\", train_results.metrics)\n",
        "trainer.save_state()\n",
        "\n",
        "# Evaluation\n",
        "eval_results = trainer.evaluate(ds[\"test\"].with_transform(transforms.val_transforms), metric_key_prefix='test')\n",
        "trainer.log_metrics(\"test\", eval_results)\n",
        "trainer.save_metrics(\"test\", eval_results)\n",
        "\n",
        "# Write model card and (optionally) push to hub\n",
        "kwargs = {\n",
        "    \"finetuned_from\": model_name,\n",
        "    \"tasks\": \"image-classification\",\n",
        "    \"dataset\": dataset_name,\n",
        "    \"tags\": [\"image-classification\", \"timm\"],\n",
        "}\n",
        "if training_args.push_to_hub:\n",
        "    trainer.push_to_hub(**kwargs)\n",
        "else:\n",
        "    trainer.create_model_card(**kwargs)"
      ],
      "execution_count": null,
      "outputs": [
        {
          "output_type": "stream",
          "name": "stderr",
          "text": [
            "PyTorch: setting up devices\n",
            "Using custom data configuration default\n",
            "Reusing dataset cats_vs_dogs (/root/.cache/huggingface/datasets/cats_vs_dogs/default/0.0.0/e44d25c0884431043d9eff89690884a4794720faf7b5ef0ed48191fa2f79295b)\n"
          ]
        },
        {
          "output_type": "display_data",
          "data": {
            "application/vnd.jupyter.widget-view+json": {
              "model_id": "6ec1f2372c9f462f84c9f4d471a74ac8",
              "version_minor": 0,
              "version_major": 2
            },
            "text/plain": [
              "  0%|          | 0/1 [00:00<?, ?it/s]"
            ]
          },
          "metadata": {}
        },
        {
          "output_type": "stream",
          "name": "stderr",
          "text": [
            "Loading cached processed dataset at /root/.cache/huggingface/datasets/cats_vs_dogs/default/0.0.0/e44d25c0884431043d9eff89690884a4794720faf7b5ef0ed48191fa2f79295b/cache-bd7ae1e44740468e.arrow\n",
            "/usr/local/lib/python3.7/dist-packages/torchvision/transforms/transforms.py:288: UserWarning: Argument interpolation should be of type InterpolationMode instead of int. Please, use InterpolationMode enum.\n",
            "  \"Argument interpolation should be of type InterpolationMode instead of int. \"\n",
            "Loading cached split indices for dataset at /root/.cache/huggingface/datasets/cats_vs_dogs/default/0.0.0/e44d25c0884431043d9eff89690884a4794720faf7b5ef0ed48191fa2f79295b/cache-49bea2d3d459fac4.arrow and /root/.cache/huggingface/datasets/cats_vs_dogs/default/0.0.0/e44d25c0884431043d9eff89690884a4794720faf7b5ef0ed48191fa2f79295b/cache-91b28ba72fcdf5d7.arrow\n",
            "Loading cached split indices for dataset at /root/.cache/huggingface/datasets/cats_vs_dogs/default/0.0.0/e44d25c0884431043d9eff89690884a4794720faf7b5ef0ed48191fa2f79295b/cache-37a8014fc1bdf1d4.arrow and /root/.cache/huggingface/datasets/cats_vs_dogs/default/0.0.0/e44d25c0884431043d9eff89690884a4794720faf7b5ef0ed48191fa2f79295b/cache-b9e243ab39d4a966.arrow\n",
            "Cloning https://huggingface.co/nateraw/my-cool-timm-model-3 into local empty directory.\n",
            "max_steps is given, it will override any value given in num_train_epochs\n",
            "Using amp fp16 backend\n",
            "***** Running training *****\n",
            "  Num examples = 18728\n",
            "  Num Epochs = 1\n",
            "  Instantaneous batch size per device = 256\n",
            "  Total train batch size (w. parallel, distributed & accumulation) = 256\n",
            "  Gradient Accumulation steps = 1\n",
            "  Total optimization steps = 10\n",
            "/usr/local/lib/python3.7/dist-packages/torchvision/transforms/functional.py:405: UserWarning: Argument interpolation should be of type InterpolationMode instead of int. Please, use InterpolationMode enum.\n",
            "  \"Argument interpolation should be of type InterpolationMode instead of int. \"\n"
          ]
        },
        {
          "output_type": "display_data",
          "data": {
            "text/html": [
              "\n",
              "    <div>\n",
              "      \n",
              "      <progress value='7' max='10' style='width:300px; height:20px; vertical-align: middle;'></progress>\n",
              "      [ 7/10 00:11 < 00:06, 0.45 it/s, Epoch 0.08/1]\n",
              "    </div>\n",
              "    <table border=\"1\" class=\"dataframe\">\n",
              "  <thead>\n",
              "    <tr style=\"text-align: left;\">\n",
              "      <th>Epoch</th>\n",
              "      <th>Training Loss</th>\n",
              "      <th>Validation Loss</th>\n",
              "    </tr>\n",
              "  </thead>\n",
              "  <tbody>\n",
              "  </tbody>\n",
              "</table><p>"
            ],
            "text/plain": [
              "<IPython.core.display.HTML object>"
            ]
          },
          "metadata": {}
        }
      ]
    }
  ]
}